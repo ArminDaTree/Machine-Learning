{
  "nbformat": 4,
  "nbformat_minor": 0,
  "metadata": {
    "colab": {
      "name": "digits.ipynb",
      "provenance": [],
      "collapsed_sections": []
    },
    "kernelspec": {
      "name": "python3",
      "display_name": "Python 3"
    },
    "language_info": {
      "name": "python"
    },
    "accelerator": "GPU"
  },
  "cells": [
    {
      "cell_type": "code",
      "metadata": {
        "id": "OcBZ5oFdtktA"
      },
      "source": [
        "from time import time\n",
        "import tensorflow as tf\n",
        "import numpy as np\n",
        "\n",
        "from tensorflow import keras\n",
        "from tensorflow.keras import datasets, layers, models, losses\n",
        "from tensorflow.keras.models import Model\n",
        "import matplotlib.pyplot as plt\n",
        "import matplotlib"
      ],
      "execution_count": null,
      "outputs": []
    },
    {
      "cell_type": "code",
      "metadata": {
        "id": "TvdM09yQtsq7",
        "colab": {
          "base_uri": "https://localhost:8080/"
        },
        "outputId": "46831249-6890-42ab-ba85-d7da04906844"
      },
      "source": [
        "(X_train, Y_train), (X_test, Y_test) = keras.datasets.mnist.load_data(path=\"mnist.npz\")\n",
        "\n",
        "#reshape for CNN (batch, height, width, channels)\n",
        "X_train = X_train.reshape(X_train.shape[0], 28, 28, 1)\n",
        "X_test = X_test.reshape(X_test.shape[0], 28, 28, 1)\n",
        "\n",
        "#normalization\n",
        "X_train.astype(float)\n",
        "X_test.astype(float)\n",
        "X_train, X_test = X_train / 255.0, X_test / 255.0\n",
        "\n",
        "print(X_train.shape)"
      ],
      "execution_count": null,
      "outputs": [
        {
          "output_type": "stream",
          "name": "stdout",
          "text": [
            "Downloading data from https://storage.googleapis.com/tensorflow/tf-keras-datasets/mnist.npz\n",
            "11493376/11490434 [==============================] - 0s 0us/step\n",
            "11501568/11490434 [==============================] - 0s 0us/step\n",
            "(60000, 28, 28, 1)\n"
          ]
        }
      ]
    },
    {
      "cell_type": "code",
      "metadata": {
        "colab": {
          "base_uri": "https://localhost:8080/"
        },
        "id": "j9BC93QANL8C",
        "outputId": "c461ba67-0676-4e6e-d328-650d1383c75d"
      },
      "source": [
        "model = keras.models.Sequential()\n",
        "\n",
        "Conv1 = keras.layers.Conv2D(56, 3, activation=\"relu\", input_shape=(28,28,1))\n",
        "MaxPool1 = keras.layers.MaxPooling2D(2)\n",
        "Conv2 = keras.layers.Conv2D(56, 3, activation=\"relu\")\n",
        "MaxPool2 = keras.layers.MaxPooling2D(2)\n",
        "Conv3 = keras.layers.Conv2D(56, 3, activation=\"relu\")\n",
        "\n",
        "model.add(Conv1)\n",
        "model.add(MaxPool1)\n",
        "model.add(Conv2)\n",
        "model.add(MaxPool2)\n",
        "model.add(Conv3)\n",
        "flat_layer = keras.layers.Flatten()\n",
        "dense_layer2 = keras.layers.Dense(56, activation=\"relu\")\n",
        "dense_layer3 = keras.layers.Dense(10, activation=\"softmax\")\n",
        "model.add(flat_layer)\n",
        "model.add(dense_layer2)\n",
        "model.add(dense_layer3)\n",
        "model.compile(optimizer=\"adam\", loss=tf.keras.losses.SparseCategoricalCrossentropy(), metrics=[\"accuracy\"])\n",
        "model.summary()"
      ],
      "execution_count": null,
      "outputs": [
        {
          "output_type": "stream",
          "name": "stdout",
          "text": [
            "Model: \"sequential\"\n",
            "_________________________________________________________________\n",
            "Layer (type)                 Output Shape              Param #   \n",
            "=================================================================\n",
            "conv2d (Conv2D)              (None, 26, 26, 56)        560       \n",
            "_________________________________________________________________\n",
            "max_pooling2d (MaxPooling2D) (None, 13, 13, 56)        0         \n",
            "_________________________________________________________________\n",
            "conv2d_1 (Conv2D)            (None, 11, 11, 56)        28280     \n",
            "_________________________________________________________________\n",
            "max_pooling2d_1 (MaxPooling2 (None, 5, 5, 56)          0         \n",
            "_________________________________________________________________\n",
            "conv2d_2 (Conv2D)            (None, 3, 3, 56)          28280     \n",
            "_________________________________________________________________\n",
            "flatten (Flatten)            (None, 504)               0         \n",
            "_________________________________________________________________\n",
            "dense (Dense)                (None, 56)                28280     \n",
            "_________________________________________________________________\n",
            "dense_1 (Dense)              (None, 10)                570       \n",
            "=================================================================\n",
            "Total params: 85,970\n",
            "Trainable params: 85,970\n",
            "Non-trainable params: 0\n",
            "_________________________________________________________________\n"
          ]
        }
      ]
    },
    {
      "cell_type": "code",
      "metadata": {
        "colab": {
          "base_uri": "https://localhost:8080/",
          "height": 465
        },
        "id": "c3pT6WhSPK8S",
        "outputId": "26059caa-2dd3-4172-cc49-5a2c2236ca0b"
      },
      "source": [
        "history = model.fit(X_train,  Y_train, epochs=5, validation_data=(X_test, Y_test))\n",
        "plt.plot(history.history['accuracy'], label='accuracy')\n",
        "plt.plot(history.history['val_accuracy'], label='val_accuracy')\n",
        "plt.xlabel('Epoch') \n",
        "plt.ylabel('Accuracy')\n",
        "plt.ylim([0.8, 1])\n",
        "plt.legend(loc='lower right')\n",
        "plt.show()"
      ],
      "execution_count": null,
      "outputs": [
        {
          "output_type": "stream",
          "text": [
            "Epoch 1/5\n",
            "1875/1875 [==============================] - 6s 3ms/step - loss: 0.1580 - accuracy: 0.9517 - val_loss: 0.0496 - val_accuracy: 0.9845\n",
            "Epoch 2/5\n",
            "1875/1875 [==============================] - 6s 3ms/step - loss: 0.0482 - accuracy: 0.9850 - val_loss: 0.0336 - val_accuracy: 0.9901\n",
            "Epoch 3/5\n",
            "1875/1875 [==============================] - 5s 3ms/step - loss: 0.0352 - accuracy: 0.9886 - val_loss: 0.0323 - val_accuracy: 0.9899\n",
            "Epoch 4/5\n",
            "1875/1875 [==============================] - 6s 3ms/step - loss: 0.0269 - accuracy: 0.9917 - val_loss: 0.0291 - val_accuracy: 0.9913\n",
            "Epoch 5/5\n",
            "1875/1875 [==============================] - 6s 3ms/step - loss: 0.0222 - accuracy: 0.9931 - val_loss: 0.0402 - val_accuracy: 0.9903\n"
          ],
          "name": "stdout"
        },
        {
          "output_type": "display_data",
          "data": {
            "image/png": "[encoded data removed]",
            "text/plain": [
              "<Figure size 432x288 with 1 Axes>"
            ]
          },
          "metadata": {
            "tags": [],
            "needs_background": "light"
          }
        }
      ]
    },
    {
      "cell_type": "code",
      "metadata": {
        "id": "hMUh8_n5Q7we"
      },
      "source": [
        "from keras_preprocessing import image\n",
        "images = image.load_img(\"mmm.png\", target_size=(28, 28))    \n",
        "x = image.img_to_array(images)\n",
        "plt.imshow(x)\n",
        "x = tf.image.rgb_to_grayscale(x)\n",
        "x = np.expand_dims(x, axis=0)\n",
        "x = x/255.0\n",
        "model_outpout = model.predict(x)\n",
        "max = 0\n",
        "for i in range(len(model_outpout[0])):\n",
        "  if model_outpout[0,i] >= model_outpout[0,max]:\n",
        "    max = i\n",
        "#print(model_outpout)\n",
        "print(x.shape)\n",
        "print(\"Le modèle prédit que le chiffre sur l'image est un \", max, \"avec une probabilité de \", str(model_outpout[0, max]*100)[:5], \"%\")"
      ],
      "execution_count": null,
      "outputs": []
    },
    {
      "cell_type": "code",
      "metadata": {
        "colab": {
          "base_uri": "https://localhost:8080/",
          "height": 155
        },
        "id": "G-QAypKxxPin",
        "outputId": "f365de6c-288f-4da2-a85a-f5dd972b84bb"
      },
      "source": [
        "from keras_preprocessing import image\n",
        "images = image.load_img(\"number.png\")    \n",
        "x = image.img_to_array(images)\n",
        "plt.imshow(x)\n",
        "x = tf.image.rgb_to_grayscale(x)\n",
        "x = np.expand_dims(x, axis=0)\n",
        "x = x/255.0\n",
        "\n",
        "ind = 0\n",
        "L = []\n",
        "for x_coord in range(x.shape[2]):\n",
        "    if ind%2 == 0:\n",
        "        if (x[0,:,x_coord,0] > 0.5).any():\n",
        "            L.append(x_coord)\n",
        "            ind+=1\n",
        "    else:\n",
        "        if False not in (x[0,:,x_coord,0] < 0.1):\n",
        "            L.append(x_coord)\n",
        "            ind+=1\n",
        "\n",
        "Images = []\n",
        "print(\"L\", L)\n",
        "for i in range(0, len(L), 2):\n",
        "  cote = (28 - (L[i+1]-L[i]))//2\n",
        "  if cote < 0:\n",
        "    cote = 28\n",
        "  img = np.zeros([1,28,28,1])\n",
        "  for k in range(L[i+1]-L[i]+2):\n",
        "    try:\n",
        "      img[0,:,k+cote, 0] = x[0,:,k+L[i], 0]\n",
        "    except:\n",
        "      print(k)\n",
        "  Images.append(img)\n",
        "\n",
        "result = \"\"\n",
        "probas = []\n",
        "for image in Images:\n",
        "  model_outpout = model.predict(image)\n",
        "  maximum = 0\n",
        "  for i in range(len(model_outpout[0])):\n",
        "    if model_outpout[0,i] >= model_outpout[0,max]:\n",
        "      maximum = i\n",
        "  result += str(maximum)\n",
        "  probas.append(float(str((model_outpout[0, maximum])*100)[:4]))\n",
        "print(\"Le modèle prédit la valeur de \", result)\n",
        "print(\"liste des probas: \", probas)\n",
        "#plt.imshow(Images[6][0,:,:,0])"
      ],
      "execution_count": null,
      "outputs": [
        {
          "output_type": "stream",
          "text": [
            "Clipping input data to the valid range for imshow with RGB data ([0..1] for floats or [0..255] for integers).\n"
          ],
          "name": "stderr"
        },
        {
          "output_type": "stream",
          "text": [
            "L [21, 34, 48, 55, 70, 79, 93, 103, 116, 126, 142, 150, 165, 173, 188, 198, 212, 221, 235, 241, 255, 262, 264, 277]\n",
            "Le modèle prédit la valeur de  012345678910\n",
            "liste des probas:  [100.0, 99.8, 99.7, 99.9, 99.9, 99.6, 99.9, 98.4, 79.5, 99.8, 99.8, 100.0]\n"
          ],
          "name": "stdout"
        },
        {
          "output_type": "display_data",
          "data": {
            "image/png": "[encoded data removed]",
            "text/plain": [
              "<Figure size 432x288 with 1 Axes>"
            ]
          },
          "metadata": {
            "tags": [],
            "needs_background": "light"
          }
        }
      ]
    }
  ]
}